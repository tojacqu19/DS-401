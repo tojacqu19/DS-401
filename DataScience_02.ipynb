{
 "cells": [
  {
   "cell_type": "markdown",
   "id": "68f4e7aa",
   "metadata": {},
   "source": [
    "# Data Science\n",
    "#### By: Javier Orduz\n",
    "[license-badge]: https://img.shields.io/badge/License-CC-orange\n",
    "[license]: https://creativecommons.org/licenses/by-nc-sa/3.0/deed.en\n",
    "\n",
    "[![CC License][license-badge]][license]\n",
    "\n",
    "[![DS](https://img.shields.io/badge/downloads-DS-green)](https://github.com/Earlham-College/DS_Fall_2022)\n",
    "\n",
    "[![Github](https://img.shields.io/badge/jaorduz-repos-blue)](https://github.com/jaorduz/)\n",
    "\n",
    "![Follow @jaorduc](https://img.shields.io/twitter/follow/jaorduc?label=follow&logo=twitter&logoColor=lkj&style=plastic)\n",
    "\n",
    "\n",
    "\n",
    "## Contents\n",
    "1. [List and Tuples](#list_tuples)\n",
    "1. [Exercises](#exercises)\n",
    "1. [References](#references)"
   ]
  },
  {
   "cell_type": "markdown",
   "id": "1a5aa39a",
   "metadata": {},
   "source": [
    "We call the package"
   ]
  },
  {
   "cell_type": "code",
   "execution_count": 2,
   "id": "d2e5f353",
   "metadata": {},
   "outputs": [],
   "source": [
    "import numpy as np"
   ]
  },
  {
   "cell_type": "markdown",
   "id": "d2727ea0",
   "metadata": {},
   "source": [
    "We create an set of random mumbers."
   ]
  },
  {
   "cell_type": "code",
   "execution_count": 3,
   "id": "cc5c177c",
   "metadata": {},
   "outputs": [],
   "source": [
    "data = {i : np.random.randn(2,4) for i in range(3)}"
   ]
  },
  {
   "cell_type": "markdown",
   "id": "1e67d1bb",
   "metadata": {},
   "source": [
    "We print the data with the label from $i= 0$ to $i= 6$"
   ]
  },
  {
   "cell_type": "code",
   "execution_count": 4,
   "id": "349c82fc",
   "metadata": {},
   "outputs": [
    {
     "name": "stdout",
     "output_type": "stream",
     "text": [
      "{0: array([[ 0.91487597,  0.6942453 ,  0.78129418, -0.96177119],\n",
      "       [-0.48975332, -0.46299359,  0.10335871, -0.16913696]]), 1: array([[-0.61822215, -1.12769466,  0.46934224, -0.62755281],\n",
      "       [-0.59250933, -1.18630157,  0.35986549, -1.22075543]]), 2: array([[ 0.42422542,  1.35460887,  1.78346281,  1.29413492],\n",
      "       [ 0.42684642,  0.35894593,  0.43953209, -0.31279235]])}\n"
     ]
    }
   ],
   "source": [
    "print(data)"
   ]
  },
  {
   "cell_type": "markdown",
   "id": "2e659f38",
   "metadata": {},
   "source": [
    "This is how we extract the 0 element"
   ]
  },
  {
   "cell_type": "code",
   "execution_count": 17,
   "id": "cf987ebc",
   "metadata": {},
   "outputs": [
    {
     "name": "stdout",
     "output_type": "stream",
     "text": [
      "0.35716106530325087\n",
      "-0.2546312899705169\n"
     ]
    }
   ],
   "source": [
    "data[0]\n",
    "for i in data[0]:\n",
    "    #print(i)\n",
    "    print(np.average(i))"
   ]
  },
  {
   "cell_type": "markdown",
   "id": "5261652d",
   "metadata": {},
   "source": [
    "This is how we extract the 00 element"
   ]
  },
  {
   "cell_type": "code",
   "execution_count": 33,
   "id": "b06e58fe",
   "metadata": {},
   "outputs": [
    {
     "data": {
      "text/plain": [
       "array([ 0.69141927, -2.22524742,  0.02661367, -0.40320715])"
      ]
     },
     "execution_count": 33,
     "metadata": {},
     "output_type": "execute_result"
    }
   ],
   "source": [
    "data[0][0]"
   ]
  },
  {
   "cell_type": "markdown",
   "id": "34097230",
   "metadata": {},
   "source": [
    "This is how we extract the 000 element"
   ]
  },
  {
   "cell_type": "code",
   "execution_count": 34,
   "id": "1add59ee",
   "metadata": {},
   "outputs": [
    {
     "data": {
      "text/plain": [
       "0.691419268224087"
      ]
     },
     "execution_count": 34,
     "metadata": {},
     "output_type": "execute_result"
    }
   ],
   "source": [
    "data[0][0][0]"
   ]
  },
  {
   "cell_type": "code",
   "execution_count": null,
   "id": "aca64884",
   "metadata": {},
   "outputs": [],
   "source": []
  },
  {
   "cell_type": "markdown",
   "id": "e8c35dc4",
   "metadata": {},
   "source": [
    "# Exercise"
   ]
  },
  {
   "cell_type": "markdown",
   "id": "4a0ca01f",
   "metadata": {},
   "source": [
    "1. Add documentation for the previous code, each line.\n",
    "1. Calculate the average for the different columns\n",
    "1. Discuss differences between List and tuples.\n",
    "4. Create a Jupyter Notebook and solve this NB's questions.\n",
    "5. Submmit your report in Moodle. Template https://www.overleaf.com/read/xqcnnnrsspcp"
   ]
  },
  {
   "cell_type": "markdown",
   "id": "e6461ac4",
   "metadata": {},
   "source": []
  },
  {
   "cell_type": "markdown",
   "id": "eec444e7",
   "metadata": {},
   "source": [
    "# 2. Difference between list and tuple"
   ]
  },
  {
   "cell_type": "markdown",
   "id": "06b40242",
   "metadata": {},
   "source": [
    "One of the main differences between a list and a tuple, is that a list is mutable while a tuple is not."
   ]
  }
 ],
 "metadata": {
  "kernelspec": {
   "display_name": "Python 3",
   "language": "python",
   "name": "python3"
  },
  "language_info": {
   "codemirror_mode": {
    "name": "ipython",
    "version": 3
   },
   "file_extension": ".py",
   "mimetype": "text/x-python",
   "name": "python",
   "nbconvert_exporter": "python",
   "pygments_lexer": "ipython3",
   "version": "3.7.4"
  },
  "vscode": {
   "interpreter": {
    "hash": "31f2aee4e71d21fbe5cf8b01ff0e069b9275f58929596ceb00d14d90e3e16cd6"
   }
  }
 },
 "nbformat": 4,
 "nbformat_minor": 5
}
