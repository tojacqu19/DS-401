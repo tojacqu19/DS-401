{
 "cells": [
  {
   "cell_type": "markdown",
   "id": "54ff6ce8",
   "metadata": {},
   "source": [
    "# Data Science\n",
    "#### By: Javier Orduz\n",
    "[license-badge]: https://img.shields.io/badge/License-CC-orange\n",
    "[license]: https://creativecommons.org/licenses/by-nc-sa/3.0/deed.en\n",
    "\n",
    "[![CC License][license-badge]][license]\n",
    "\n",
    "[![DS](https://img.shields.io/badge/downloads-DS-green)](https://github.com/Earlham-College/DS_Fall_2022)\n",
    "\n",
    "[![Github](https://img.shields.io/badge/jaorduz-repos-blue)](https://github.com/jaorduz/)\n",
    "\n",
    "![Follow @jaorduc](https://img.shields.io/twitter/follow/jaorduc?label=follow&logo=twitter&logoColor=lkj&style=plastic)\n"
   ]
  },
  {
   "cell_type": "markdown",
   "id": "635e7762",
   "metadata": {},
   "source": [
    "# Function"
   ]
  },
  {
   "cell_type": "code",
   "execution_count": 36,
   "id": "bd28d9da",
   "metadata": {},
   "outputs": [
    {
     "data": {
      "text/plain": [
       "-1"
      ]
     },
     "execution_count": 36,
     "metadata": {},
     "output_type": "execute_result"
    }
   ],
   "source": [
    "def add_numbers(x, y):\n",
    "    return x + y\n",
    "\n",
    "add_numbers(x = 2, y = -3)"
   ]
  },
  {
   "cell_type": "code",
   "execution_count": 40,
   "id": "b76afe5e",
   "metadata": {},
   "outputs": [
    {
     "data": {
      "text/plain": [
       "3"
      ]
     },
     "execution_count": 40,
     "metadata": {},
     "output_type": "execute_result"
    }
   ],
   "source": [
    "def additionThreePara(x, y, z = None):\n",
    "    if (z==None):\n",
    "        return x+y\n",
    "    else:\n",
    "        return x+y+z\n",
    "    \n",
    "    \n",
    "additionThreePara(1,2)"
   ]
  },
  {
   "cell_type": "code",
   "execution_count": 43,
   "id": "ab281151",
   "metadata": {},
   "outputs": [
    {
     "data": {
      "text/plain": [
       "3"
      ]
     },
     "execution_count": 43,
     "metadata": {},
     "output_type": "execute_result"
    }
   ],
   "source": [
    "def additionThreePara(x, y, z = 'add'):\n",
    "    if (z=='add'):\n",
    "        return x+y\n",
    "    else:\n",
    "        return x-y\n",
    "    \n",
    "    \n",
    "additionThreePara(1,2)"
   ]
  },
  {
   "cell_type": "markdown",
   "id": "8fa53aba",
   "metadata": {},
   "source": [
    "# Exercises"
   ]
  },
  {
   "cell_type": "markdown",
   "id": "4748e4b8",
   "metadata": {},
   "source": [
    "1. Write a function to calculate the determinant using the Levi-Civita operator.\n",
    "1. Create a Jupyter Notebook and solve this NB's questions.\n",
    "1. Submmit your report in Moodle. Template https://www.overleaf.com/read/xqcnnnrsspcp"
   ]
  },
  {
   "cell_type": "code",
   "execution_count": 6,
   "id": "f678d2aa",
   "metadata": {},
   "outputs": [
    {
     "data": {
      "text/plain": [
       "7"
      ]
     },
     "execution_count": 6,
     "metadata": {},
     "output_type": "execute_result"
    }
   ],
   "source": [
    "#sources found on the internet, adapted it a bit. \n",
    "import numpy\n",
    "import copy\n",
    "\n",
    "def find_determinant(Matrix, total=0):\n",
    "    \n",
    "    # Part 1: referenced row for stored indices\n",
    "    indic = list(range(len(Matrix)))\n",
    "     \n",
    "    # Part 2: use recursive calls until reached a 2X2 matrix\n",
    "    if len(Matrix) == 2 and len(Matrix[0]) == 2:\n",
    "        val = Matrix[0][0] * Matrix[1][1] - Matrix[1][0] * Matrix[0][1]\n",
    "        return val\n",
    " \n",
    "    # Part 3: use submatrix to have a focus column, as use it iteratively\n",
    "    for c in indic: \n",
    "        mat_copy = copy.deepcopy(Matrix) \n",
    "        mat_copy = mat_copy[1:] \n",
    "        height = len(mat_copy)\n",
    " \n",
    "        for i in range(height): \n",
    "           \n",
    "            mat_copy[i] = mat_copy[i][0:c] + mat_copy[i][c+1:] \n",
    " \n",
    "        pad = (-1) ** (c % 2)\n",
    "\n",
    "        sub_determintant = find_determinant(mat_copy)\n",
    "\n",
    "        total += pad * Matrix[0][c] * sub_determintant \n",
    " \n",
    "    return total\n",
    "find_determinant([[2,2,3],[3,4,5],[3,5,9]], total = 0)"
   ]
  }
 ],
 "metadata": {
  "kernelspec": {
   "display_name": "Python 3",
   "language": "python",
   "name": "python3"
  },
  "language_info": {
   "codemirror_mode": {
    "name": "ipython",
    "version": 3
   },
   "file_extension": ".py",
   "mimetype": "text/x-python",
   "name": "python",
   "nbconvert_exporter": "python",
   "pygments_lexer": "ipython3",
   "version": "3.7.4"
  },
  "vscode": {
   "interpreter": {
    "hash": "31f2aee4e71d21fbe5cf8b01ff0e069b9275f58929596ceb00d14d90e3e16cd6"
   }
  }
 },
 "nbformat": 4,
 "nbformat_minor": 5
}
