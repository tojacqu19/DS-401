{
 "cells": [
  {
   "cell_type": "markdown",
   "id": "d17abf26",
   "metadata": {},
   "source": [
    "# Data Science\n",
    "#### By: Javier Orduz\n",
    "[license-badge]: https://img.shields.io/badge/License-CC-orange\n",
    "[license]: https://creativecommons.org/licenses/by-nc-sa/3.0/deed.en\n",
    "\n",
    "[![CC License][license-badge]][license]  [![DS](https://img.shields.io/badge/downloads-DS-green)](https://github.com/Earlham-College/DS_Fall_2022)  [![Github](https://img.shields.io/badge/jaorduz-repos-blue)](https://github.com/jaorduz/)  ![Follow @jaorduc](https://img.shields.io/twitter/follow/jaorduc?label=follow&logo=twitter&logoColor=lkj&style=plastic)\n",
    "\n",
    "## Contents\n",
    "1. [List and Tuples](#list_tuples)\n",
    "1. [Exercises](#exercises)\n",
    "1. [References](#references)"
   ]
  },
  {
   "cell_type": "markdown",
   "id": "a071704f",
   "metadata": {},
   "source": [
    "# Lists and Tuples <a name=\"list_tuples\"></a>"
   ]
  },
  {
   "cell_type": "markdown",
   "id": "c36eefbb",
   "metadata": {},
   "source": [
    "In short, a list is a collection of arbitrary objects, somewhat akin to an array in many other programming languages but more flexible. **Lists are defined in Python by enclosing a comma-separated sequence of objects in square brackets** [1], as shown below:"
   ]
  },
  {
   "cell_type": "markdown",
   "id": "b2b76ef6",
   "metadata": {},
   "source": [
    "## Same type"
   ]
  },
  {
   "cell_type": "code",
   "execution_count": null,
   "id": "b744d4c2",
   "metadata": {},
   "outputs": [],
   "source": [
    "a = ['foo', 'bar', 'baz', 'qux']"
   ]
  },
  {
   "cell_type": "code",
   "execution_count": null,
   "id": "bf646536",
   "metadata": {},
   "outputs": [],
   "source": [
    "a = a.remove(a[0])"
   ]
  },
  {
   "cell_type": "code",
   "execution_count": null,
   "id": "63559e77",
   "metadata": {},
   "outputs": [],
   "source": [
    "b = [1, 2, 3, 4]"
   ]
  },
  {
   "cell_type": "code",
   "execution_count": null,
   "id": "078a9113",
   "metadata": {},
   "outputs": [],
   "source": [
    "b = b.append([5, 6, 7])"
   ]
  },
  {
   "cell_type": "markdown",
   "id": "7992bfa2",
   "metadata": {},
   "source": [
    "## Different type"
   ]
  },
  {
   "cell_type": "code",
   "execution_count": null,
   "id": "f1120d14",
   "metadata": {},
   "outputs": [],
   "source": [
    "c = [21.42, 'foobar', 3, 4, 'bark', False, 3.14159]"
   ]
  },
  {
   "cell_type": "code",
   "execution_count": null,
   "id": "eec76162",
   "metadata": {},
   "outputs": [],
   "source": [
    "c"
   ]
  },
  {
   "cell_type": "markdown",
   "id": "c0734cc7",
   "metadata": {},
   "source": [
    "Even lists can contain functions, classes, and modules.\n",
    "Each list assignes index for all elements starting from 0 (from left or -1 starting from right)."
   ]
  },
  {
   "cell_type": "code",
   "execution_count": null,
   "id": "d215a696",
   "metadata": {},
   "outputs": [],
   "source": [
    "c[0]"
   ]
  },
  {
   "cell_type": "code",
   "execution_count": null,
   "id": "d31e4171",
   "metadata": {},
   "outputs": [],
   "source": [
    "a[-1]"
   ]
  },
  {
   "cell_type": "markdown",
   "id": "ad1b6475",
   "metadata": {},
   "source": [
    "# Part of the list"
   ]
  },
  {
   "cell_type": "code",
   "execution_count": null,
   "id": "61cd56a2",
   "metadata": {},
   "outputs": [],
   "source": [
    "b[1:3]"
   ]
  },
  {
   "cell_type": "markdown",
   "id": "acd3e569",
   "metadata": {},
   "source": [
    "## Operating with lists"
   ]
  },
  {
   "cell_type": "code",
   "execution_count": null,
   "id": "5e832df8",
   "metadata": {},
   "outputs": [],
   "source": [
    "a + b"
   ]
  },
  {
   "cell_type": "markdown",
   "id": "1594fe13",
   "metadata": {},
   "source": [
    "# Mutable\n",
    "\n",
    "It can be changed once they have been assigned."
   ]
  },
  {
   "cell_type": "markdown",
   "id": "2fd116ea",
   "metadata": {},
   "source": [
    "##  Tuples"
   ]
  },
  {
   "cell_type": "markdown",
   "id": "f15a72b5",
   "metadata": {},
   "source": [
    "1. Tuples are **immutables**"
   ]
  },
  {
   "cell_type": "code",
   "execution_count": 2,
   "id": "cf483ec5",
   "metadata": {},
   "outputs": [],
   "source": [
    "e = (1, 2, 3)"
   ]
  },
  {
   "cell_type": "code",
   "execution_count": 5,
   "id": "96e546cd",
   "metadata": {},
   "outputs": [
    {
     "data": {
      "text/plain": [
       "(1, 2, 3, 4, 5, 6)"
      ]
     },
     "execution_count": 5,
     "metadata": {},
     "output_type": "execute_result"
    }
   ],
   "source": [
    "e + (4,5,6)"
   ]
  },
  {
   "cell_type": "code",
   "execution_count": 6,
   "id": "db44db8b",
   "metadata": {},
   "outputs": [
    {
     "data": {
      "text/plain": [
       "1"
      ]
     },
     "execution_count": 6,
     "metadata": {},
     "output_type": "execute_result"
    }
   ],
   "source": [
    "e[0]"
   ]
  },
  {
   "cell_type": "markdown",
   "id": "6e079b58",
   "metadata": {},
   "source": [
    "Reversal mechanism"
   ]
  },
  {
   "cell_type": "code",
   "execution_count": 7,
   "id": "f84c86f5",
   "metadata": {},
   "outputs": [
    {
     "data": {
      "text/plain": [
       "(3, 2, 1)"
      ]
     },
     "execution_count": 7,
     "metadata": {},
     "output_type": "execute_result"
    }
   ],
   "source": [
    "e[::-1]"
   ]
  },
  {
   "cell_type": "markdown",
   "id": "1801d220",
   "metadata": {},
   "source": [
    "- Program execution is faster when manipulating **tuples**\n",
    "- Sometimes we want immutable data\n",
    "- Dictionarie concept uses the immutable propierty."
   ]
  },
  {
   "cell_type": "markdown",
   "id": "cbac176d",
   "metadata": {},
   "source": [
    "# Packing and unpacking "
   ]
  },
  {
   "cell_type": "code",
   "execution_count": 8,
   "id": "7891396e",
   "metadata": {},
   "outputs": [],
   "source": [
    "(v1, v2, v3) = (2, 20, 200)"
   ]
  },
  {
   "cell_type": "code",
   "execution_count": 9,
   "id": "96f09b27",
   "metadata": {},
   "outputs": [
    {
     "data": {
      "text/plain": [
       "200"
      ]
     },
     "execution_count": 9,
     "metadata": {},
     "output_type": "execute_result"
    }
   ],
   "source": [
    "v3"
   ]
  },
  {
   "cell_type": "markdown",
   "id": "547f2b44",
   "metadata": {},
   "source": [
    "You can test it without parenthesis."
   ]
  },
  {
   "cell_type": "markdown",
   "id": "f9bc62ed",
   "metadata": {},
   "source": [
    "# Modifying "
   ]
  },
  {
   "cell_type": "code",
   "execution_count": 10,
   "id": "bb27ddab",
   "metadata": {},
   "outputs": [],
   "source": [
    "d = [1,2,3,4,5,6,7,8]"
   ]
  },
  {
   "cell_type": "code",
   "execution_count": 11,
   "id": "d8c1c382",
   "metadata": {},
   "outputs": [],
   "source": [
    "d[1:6]=[9]"
   ]
  },
  {
   "cell_type": "code",
   "execution_count": 18,
   "id": "20a0fe48",
   "metadata": {},
   "outputs": [
    {
     "name": "stdout",
     "output_type": "stream",
     "text": [
      "[1, 9, 7, 8, 9, 9, 10, 11, 12, 9, 10, 11, 12, 9, 10, 11, 12, 9, 10, 11, 12, 9, 10, 11, 12]\n"
     ]
    }
   ],
   "source": [
    "d.append(9)\n",
    "d.extend((10,11,12))\n",
    "print(d)"
   ]
  },
  {
   "cell_type": "markdown",
   "id": "cbd75b48",
   "metadata": {},
   "source": [
    "We replace a specific slice of the list with a new value```d[1:6]=[9]```"
   ]
  },
  {
   "cell_type": "markdown",
   "id": "a40a0291",
   "metadata": {},
   "source": [
    "# Dictionaries"
   ]
  },
  {
   "cell_type": "markdown",
   "id": "e4c59f82",
   "metadata": {},
   "source": [
    "A dictionary is a collection which is \n",
    "    - **ordered**, \n",
    "    - **changeable** and \n",
    "    - **does not allow duplicates**.\n",
    "\n",
    "Dictionaries are used to store data values in ```key:value```pairs.\n",
    "\n"
   ]
  },
  {
   "cell_type": "code",
   "execution_count": 3,
   "id": "c0add92f",
   "metadata": {},
   "outputs": [
    {
     "name": "stdout",
     "output_type": "stream",
     "text": [
      "{'brand': 'Ford', 'model': 'Mustang', 'year': 1964}\n"
     ]
    }
   ],
   "source": [
    "thisdict =\t{\n",
    "  \"brand\": \"Ford\",\n",
    "  \"model\": \"Mustang\",\n",
    "  \"year\": 1964\n",
    "}\n",
    "print(thisdict)"
   ]
  },
  {
   "cell_type": "code",
   "execution_count": 4,
   "id": "4ca7ff63",
   "metadata": {},
   "outputs": [
    {
     "name": "stdout",
     "output_type": "stream",
     "text": [
      "Ford\n"
     ]
    }
   ],
   "source": [
    " print(thisdict[\"brand\"])"
   ]
  },
  {
   "cell_type": "markdown",
   "id": "9986faa9",
   "metadata": {},
   "source": [
    "# Set"
   ]
  },
  {
   "cell_type": "markdown",
   "id": "2381cf19",
   "metadata": {},
   "source": [
    "Sets are used to store multiple items in a single variable.\n",
    "A set is a collection which is **unordered, unchangeable**, and **unindexed**."
   ]
  },
  {
   "cell_type": "code",
   "execution_count": 24,
   "id": "802ef3e1",
   "metadata": {},
   "outputs": [
    {
     "name": "stdout",
     "output_type": "stream",
     "text": [
      "apple\n"
     ]
    },
    {
     "data": {
      "text/plain": [
       "{'banana', 'cherry'}"
      ]
     },
     "execution_count": 24,
     "metadata": {},
     "output_type": "execute_result"
    }
   ],
   "source": [
    " myset = {\"apple\", \"banana\", \"cherry\"} \n",
    "a = myset.pop()\n",
    "print(a)\n",
    "myset"
   ]
  },
  {
   "cell_type": "markdown",
   "id": "b6d11b39",
   "metadata": {},
   "source": [
    "The items in the set \n",
    "    - do not have a defined order.\n",
    "    - Set items cannot be changed after the set has been created.\n",
    "    - and cannot be referred to by index or key"
   ]
  },
  {
   "cell_type": "markdown",
   "id": "ef8a366e",
   "metadata": {},
   "source": [
    "# Exercises <a name=\"exercises\"></a>"
   ]
  },
  {
   "cell_type": "markdown",
   "id": "0a6169ae",
   "metadata": {},
   "source": [
    "1. Create the list for the next diagram\n",
    "\n",
    "[<img src=\"https://files.realpython.com/media/t.08554d94a1e5.png\">](https://files.realpython.com/media/t.08554d94a1e5.png)\n",
    "\n",
    "<!---\n",
    "\n",
    "['a', ['bb', ['ccc', 'ddd'], 'ee', 'ff'], 'g', ['hh', 'ii'], 'j']\n",
    "--->"
   ]
  },
  {
   "cell_type": "markdown",
   "id": "42521288",
   "metadata": {},
   "source": [
    "2. Implement some examples with methods such as\n",
    "    - ```append```\n",
    "    - ```upper```\n",
    "    - ```extend```\n",
    "    - ```insert```\n",
    "    - ```remove```\n",
    "    - ```pop```"
   ]
  },
  {
   "cell_type": "markdown",
   "id": "d9dfebfb",
   "metadata": {},
   "source": [
    "3. Apply basic operations with tuples\n",
    "4. Create a Jupyter Notebook and solve this NB's questions.\n",
    "5. Submmit your report in Moodle. Template https://www.overleaf.com/read/xqcnnnrsspcp"
   ]
  },
  {
   "cell_type": "markdown",
   "id": "cdb41993",
   "metadata": {},
   "source": [
    "## Versions"
   ]
  },
  {
   "cell_type": "code",
   "execution_count": 2,
   "id": "4994c0ee",
   "metadata": {},
   "outputs": [
    {
     "name": "stdout",
     "output_type": "stream",
     "text": [
      "python version:  3.9.1\n",
      "\u001b[33mYou are using pip version 9.0.1, however version 22.2.2 is available.\n",
      "You should consider upgrading via the 'pip install --upgrade pip' command.\u001b[0m\n"
     ]
    }
   ],
   "source": [
    "from platform import python_version\n",
    "print(\"python version: \", python_version())\n",
    "!pip3 freeze | grep qiskit"
   ]
  },
  {
   "cell_type": "code",
   "execution_count": 32,
   "id": "a209bb96",
   "metadata": {},
   "outputs": [
    {
     "name": "stdout",
     "output_type": "stream",
     "text": [
      "['a', ['bb', ['ccc', 'ddd'], 'ee', 'ff'], 'g', ['hh', 'ii'], 'j']\n",
      "['a', ['bb', ['ccc', 'ddd'], 'ee', 'ff'], 'karma', ['hh', 'ii'], 'j', 'banana', 'bonjour']\n",
      "['a', ['bb', ['ccc', 'ddd'], 'ee', 'ff'], 'karma', ['hh', 'ii'], 'j', 'banana']\n"
     ]
    }
   ],
   "source": [
    "a = [\"ccc\",\"ddd\"]\n",
    "b = [\"hh\", \"ii\"]\n",
    "c = [\"bb\",a,\"ee\",\"ff\"]\n",
    "x = [\"a\",c,\"g\",b,\"j\"]\n",
    "print(x)\n",
    "x.append(\"banana\")\n",
    "x[0].upper\n",
    "x.extend([\"bonjour\"])\n",
    "x.insert(3,\"karma\")\n",
    "x.remove(\"g\")\n",
    "print(x)\n",
    "x.pop()\n",
    "print(x)"
   ]
  },
  {
   "cell_type": "markdown",
   "id": "eced19bf",
   "metadata": {},
   "source": [
    "# References <a name=\"references\"></a>"
   ]
  },
  {
   "cell_type": "markdown",
   "id": "258ba116",
   "metadata": {},
   "source": [
    "[1] https://realpython.com/python-lists-tuples/"
   ]
  }
 ],
 "metadata": {
  "kernelspec": {
   "display_name": "Python 3",
   "language": "python",
   "name": "python3"
  },
  "language_info": {
   "codemirror_mode": {
    "name": "ipython",
    "version": 3
   },
   "file_extension": ".py",
   "mimetype": "text/x-python",
   "name": "python",
   "nbconvert_exporter": "python",
   "pygments_lexer": "ipython3",
   "version": "3.7.4"
  },
  "vscode": {
   "interpreter": {
    "hash": "31f2aee4e71d21fbe5cf8b01ff0e069b9275f58929596ceb00d14d90e3e16cd6"
   }
  }
 },
 "nbformat": 4,
 "nbformat_minor": 5
}
