{
 "cells": [
  {
   "cell_type": "markdown",
   "id": "8bf6bde0",
   "metadata": {},
   "source": [
    "# Data Science\n",
    "#### By: Javier Orduz\n",
    "[license-badge]: https://img.shields.io/badge/License-CC-orange\n",
    "[license]: https://creativecommons.org/licenses/by-nc-sa/3.0/deed.en\n",
    "\n",
    "[![CC License][license-badge]][license]  [![DS](https://img.shields.io/badge/downloads-DS-green)](https://github.com/Earlham-College/DS_Fall_2022)  [![Github](https://img.shields.io/badge/jaorduz-repos-blue)](https://github.com/jaorduz/)  ![Follow @jaorduc](https://img.shields.io/twitter/follow/jaorduc?label=follow&logo=twitter&logoColor=lkj&style=plastic)\n"
   ]
  },
  {
   "cell_type": "markdown",
   "id": "247d28dd",
   "metadata": {},
   "source": [
    "# Importing different modules"
   ]
  },
  {
   "cell_type": "markdown",
   "id": "1dd38d0f",
   "metadata": {},
   "source": [
    "## Imports ```numpy```"
   ]
  },
  {
   "cell_type": "markdown",
   "id": "face1971",
   "metadata": {},
   "source": [
    "### A numerical programming library"
   ]
  },
  {
   "cell_type": "code",
   "execution_count": 9,
   "id": "b15e88c1",
   "metadata": {},
   "outputs": [],
   "source": [
    "import numpy as np"
   ]
  },
  {
   "cell_type": "markdown",
   "id": "83722d97",
   "metadata": {},
   "source": [
    "```Numpy``` check some documentation [1]"
   ]
  },
  {
   "cell_type": "markdown",
   "id": "81d8ab51",
   "metadata": {},
   "source": [
    "##  Imports statistics functions and more"
   ]
  },
  {
   "cell_type": "code",
   "execution_count": 10,
   "id": "643d1134",
   "metadata": {},
   "outputs": [],
   "source": [
    "import scipy as sp "
   ]
  },
  {
   "cell_type": "markdown",
   "id": "1657b234",
   "metadata": {},
   "source": [
    "```scipy``` check some documentation [2]"
   ]
  },
  {
   "cell_type": "markdown",
   "id": "74f0728a",
   "metadata": {},
   "source": [
    "## Imports ```matplotlib```"
   ]
  },
  {
   "cell_type": "code",
   "execution_count": 11,
   "id": "9337c10a",
   "metadata": {},
   "outputs": [],
   "source": [
    "import matplotlib as mpl"
   ]
  },
  {
   "cell_type": "markdown",
   "id": "49ca315b",
   "metadata": {},
   "source": [
    "```matplotlib``` check come documentation [3]"
   ]
  },
  {
   "cell_type": "markdown",
   "id": "563e31a5",
   "metadata": {},
   "source": [
    "### Module: to access to colormaps"
   ]
  },
  {
   "cell_type": "code",
   "execution_count": 12,
   "id": "1b0959ba",
   "metadata": {},
   "outputs": [],
   "source": [
    "import matplotlib.cm as cm"
   ]
  },
  {
   "cell_type": "markdown",
   "id": "828be2d0",
   "metadata": {},
   "source": [
    "```matplotlib.cm``` check some documentation [4]"
   ]
  },
  {
   "cell_type": "markdown",
   "id": "fe6512c3",
   "metadata": {},
   "source": [
    "### Module: to set up plotting under plt"
   ]
  },
  {
   "cell_type": "code",
   "execution_count": 13,
   "id": "2b6e9532",
   "metadata": {},
   "outputs": [],
   "source": [
    "import matplotlib.pyplot as plt"
   ]
  },
  {
   "cell_type": "markdown",
   "id": "8fdfc3e4",
   "metadata": {},
   "source": [
    "```matplotlib.pyplot``` check some documentation [5]"
   ]
  },
  {
   "cell_type": "markdown",
   "id": "a7a9c07c",
   "metadata": {},
   "source": [
    "## Imports ```pandas``` to use data as dataframes"
   ]
  },
  {
   "cell_type": "code",
   "execution_count": 14,
   "id": "691c6094",
   "metadata": {},
   "outputs": [],
   "source": [
    "import pandas as pd"
   ]
  },
  {
   "cell_type": "markdown",
   "id": "0c09e306",
   "metadata": {},
   "source": [
    "```pandas``` check some documentation [6]"
   ]
  },
  {
   "cell_type": "markdown",
   "id": "77dd1c79",
   "metadata": {},
   "source": [
    "### Option to manipulate size and more"
   ]
  },
  {
   "cell_type": "code",
   "execution_count": 15,
   "id": "4c55e13b",
   "metadata": {},
   "outputs": [],
   "source": [
    "#sets up pandas table display\n",
    "pd.set_option('display.width', 500)\n",
    "pd.set_option('display.max_columns', 100)\n",
    "pd.set_option('display.notebook_repr_html', True)"
   ]
  },
  {
   "cell_type": "markdown",
   "id": "6bf1600a",
   "metadata": {},
   "source": [
    "## Line to embed plots"
   ]
  },
  {
   "cell_type": "code",
   "execution_count": 16,
   "id": "05482ce2",
   "metadata": {},
   "outputs": [
    {
     "name": "stderr",
     "output_type": "stream",
     "text": [
      "UsageError: unrecognized arguments: inline\n"
     ]
    }
   ],
   "source": [
    "%matplotlib in inline"
   ]
  },
  {
   "cell_type": "markdown",
   "id": "232a72f7",
   "metadata": {},
   "source": [
    "## Imports ```seaborn```"
   ]
  },
  {
   "cell_type": "markdown",
   "id": "78256c5e",
   "metadata": {},
   "source": [
    "### sets up styles and gives us more plotting options"
   ]
  },
  {
   "cell_type": "code",
   "execution_count": null,
   "id": "7ee96b7d",
   "metadata": {},
   "outputs": [],
   "source": [
    "import seaborn as sns"
   ]
  },
  {
   "cell_type": "markdown",
   "id": "e9a6f011",
   "metadata": {},
   "source": [
    "```seaborn``` check some documentation [7]"
   ]
  },
  {
   "cell_type": "markdown",
   "id": "b0b0184b",
   "metadata": {},
   "source": [
    "# Exercises"
   ]
  },
  {
   "cell_type": "markdown",
   "id": "579d82b9",
   "metadata": {},
   "source": [
    "1. Consider this list ```alist=[1,2,3,4,5]```, obtain with an interation a new list with the i-element-squared\n",
    "```output -> [1,4,6,16,25]```\n",
    "\n",
    "<!---\n",
    "alist=[1,2,3,4,5]\n",
    "asquaredlist=[i*i for i in alist]\n",
    "asquaredlist\n",
    "--->\n",
    "2. Create a Jupyter Notebook where you implement some functions, methods, and different parameters with each module/package. Check **NB_Examples** folder.\n",
    "3. Submmit your report in Moodle. Template https://www.overleaf.com/read/xqcnnnrsspcp"
   ]
  },
  {
   "cell_type": "markdown",
   "id": "cacda60b",
   "metadata": {},
   "source": [
    "## Versions"
   ]
  },
  {
   "cell_type": "code",
   "execution_count": null,
   "id": "357674c6",
   "metadata": {},
   "outputs": [],
   "source": [
    "from platform import python_version\n",
    "print(\"python version: \", python_version())\n",
    "!pip3 freeze | grep qiskit"
   ]
  },
  {
   "cell_type": "code",
   "execution_count": 17,
   "id": "c86056a8",
   "metadata": {},
   "outputs": [
    {
     "name": "stdout",
     "output_type": "stream",
     "text": [
      "[1, 4, 9, 16, 25]\n"
     ]
    }
   ],
   "source": [
    "alist=[1,2,3,4,5]\n",
    "output=[i**2 for i in alist]\n",
    "print(output)"
   ]
  },
  {
   "cell_type": "code",
   "execution_count": 18,
   "id": "a3d8e8ea",
   "metadata": {},
   "outputs": [
    {
     "data": {
      "text/plain": [
       "[<matplotlib.lines.Line2D at 0x7fd1fc5a7f10>]"
      ]
     },
     "execution_count": 18,
     "metadata": {},
     "output_type": "execute_result"
    },
    {
     "data": {
      "image/png": "[encoded data removed]",
      "text/plain": [
       "<Figure size 432x288 with 1 Axes>"
      ]
     },
     "metadata": {
      "needs_background": "light"
     },
     "output_type": "display_data"
    }
   ],
   "source": [
    "plt.plot(output)"
   ]
  },
  {
   "cell_type": "markdown",
   "id": "5b9f9bd4",
   "metadata": {},
   "source": [
    "# References"
   ]
  },
  {
   "cell_type": "markdown",
   "id": "1b8ed539",
   "metadata": {},
   "source": [
    "[1] numpy https://numpy.org/\n",
    "\n",
    "[2] scipy https://docs.scipy.org/\n",
    "\n",
    "[3] matplotlib https://matplotlib.org/\n",
    "\n",
    "[4] matplotlib.cm https://matplotlib.org/stable/api/cm_api.html\n",
    "\n",
    "[5] matplotlib.pyplot https://matplotlib.org/stable/api/pyplot_summary.html\n",
    "\n",
    "[6] pandas https://pandas.pydata.org/docs/\n",
    "\n",
    "[7] seaborn https://seaborn.pydata.org/"
   ]
  }
 ],
 "metadata": {
  "kernelspec": {
   "display_name": "Python 3",
   "language": "python",
   "name": "python3"
  },
  "language_info": {
   "codemirror_mode": {
    "name": "ipython",
    "version": 3
   },
   "file_extension": ".py",
   "mimetype": "text/x-python",
   "name": "python",
   "nbconvert_exporter": "python",
   "pygments_lexer": "ipython3",
   "version": "3.7.4"
  },
  "vscode": {
   "interpreter": {
    "hash": "31f2aee4e71d21fbe5cf8b01ff0e069b9275f58929596ceb00d14d90e3e16cd6"
   }
  }
 },
 "nbformat": 4,
 "nbformat_minor": 5
}
